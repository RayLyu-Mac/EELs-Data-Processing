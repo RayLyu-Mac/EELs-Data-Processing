{
 "cells": [
  {
   "cell_type": "code",
   "execution_count": 1,
   "metadata": {},
   "outputs": [],
   "source": [
    "import pandas as pd\n",
    "import matplotlib.pyplot as plt\n",
    "from pandas import DataFrame\n",
    "import numpy as np\n",
    "import cv2\n",
    "from scipy.interpolate import Rbf\n",
    "from mpl_toolkits.mplot3d import Axes3D\n",
    "from matplotlib import cm\n",
    "from scipy.ndimage import convolve\n",
    "from matplotlib import colors\n",
    "from scipy import interpolate\n",
    "from scipy.interpolate import BSpline\n",
    "from scipy.interpolate import make_interp_spline\n",
    "from scipy.interpolate import make_lsq_spline\n",
    "import matplotlib.font_manager as fm\n",
    "from mpl_toolkits.axes_grid1.anchored_artists import AnchoredSizeBar\n",
    "from matplotlib.transforms import Bbox\n",
    "from mpl_toolkits.axes_grid1 import make_axes_locatable\n",
    "from matplotlib_scalebar.scalebar import IMPERIAL_LENGTH\n",
    "from matplotlib_scalebar.scalebar import ScaleBar"
   ]
  },
  {
   "cell_type": "code",
   "execution_count": 13,
   "metadata": {},
   "outputs": [],
   "source": [
    "# ------------Keep it------------------------------#\n",
    "error=0.0008\n",
    "lower=485\n",
    "upper=1200\n",
    "# ------------Keep it------------------------------#\n",
    "\n",
    "# Num correspond to the horizontal interpolation number: E.G. 14 means the interpolation map have 14 pixels in horizontal direction\n",
    "Num=14\n",
    "\n",
    "#num correspond to the vertical interpolation number: E.G. 32 means the interpolation map have 32 pixels in vertical direction\n",
    "num=32\n",
    "\n",
    "#Check the comment in raw data clean\n",
    "albnum=[0,250,500,750,1000,1250,1500,1750,2000,2250,2500,2750,3000,3050,3100]\n",
    "alanum=[0,100,250,500,750,1000,1250,1500,1750,2000,2250,2500,2750,3000,3100]\n",
    "sionum=[0,100,250,500,750,1000,1250,1500,1750,2000,2250,2500,2750,3000,3100]\n",
    "sianum=[0,100,250,500,750,1250,1500,1750,2000,2250,2500,2750,3000,3100]\n",
    "sibnum=[0,250,500,750,1000,1250,1500,1750,2000,2250,2500,2750,3000,3050,3100]\n",
    "numbers=[0,100,250,500,750,1000,1250,1500,1750,2000,2250,2500,2750,3000,3050,3100]\n",
    "number=['0000','0100','0250','0500','0750']\n",
    "label=['A','B','C']\n",
    "total=[albnum,alanum,sionum,sionum,sionum,sianum,sibnum]\n",
    "for i in range(1000,3001,250):\n",
    "    number.append(str(i))\n",
    "number.append('3050')\n",
    "number.append('3100')\n",
    "fnumber=[]\n",
    "for iii in number:\n",
    "    fnumber.append(int(iii))\n",
    "dfys={}\n",
    "dfxs={}\n",
    "dfnan={}\n",
    "RR=0\n",
    "\n",
    "#put the energy level in the xzs \n",
    "xzs=[0.154]\n",
    "for x in xzs:\n",
    "    yt=[]\n",
    "    ytn=[]\n",
    "    for k in ['AL-B','AL-A','SiO2-A','SiO2-B','SiO2-C','SiC-A','SiC-B']:\n",
    "            ys=[]\n",
    "            yns=[]\n",
    "            xs=[]\n",
    "            for j in number:\n",
    "                try:\n",
    "                    df=pd.read_table('3p1um-{}-10-1s-{}nm-Subtracted-NElectrons-SM.dat'.format(k,j))\n",
    "                    df.columns=['energyloss','intensity']\n",
    "                    E=df['energyloss'][lower:upper]\n",
    "                    I=df['intensity'][lower:upper]\n",
    "                    df.set_index('energyloss',inplace=True)\n",
    "                    Tcx=[]\n",
    "                    Tcy=[]\n",
    "                    for column in df.index:\n",
    "                        if column>(-error+x) and column<(x+error):\n",
    "                            y=df.loc[column].values[0]\n",
    "                            if k=='SiO2-A' or k=='SiO2-C':\n",
    "                                y=y-0.009\n",
    "                            elif k=='SiO2-B':\n",
    "                                y=y-0.0115\n",
    "                            elif k=='SiC-A' or k=='SiC-B':\n",
    "                                y=y-0.00\n",
    "                            else:\n",
    "                                y=y-0\n",
    "                            RR+=1\n",
    "                            Tcx.append(column)\n",
    "                            Tcy.append(y)\n",
    "                            if RR==2:\n",
    "                                RR=0\n",
    "                                break\n",
    "                    Newy=((Tcy[1]-Tcy[0])/(Tcx[1]-Tcx[0])*x+(Tcy[1]-((Tcy[1]-Tcy[0])*Tcx[1])/(Tcx[1]-Tcx[0])))\n",
    "                    ys.append(Newy)\n",
    "                except Exception as e:\n",
    "                    pass\n",
    "            ytn.append(ys)\n",
    "            yt.append(ys)\n",
    "    dfys['EEL_Compoent_{}_Line_{}'.format(x,i)]=yt\n",
    "    dfnan['EEL_Compoent_{}_Line_{}'.format(x,i)]=ytn\n",
    "df3 = pd.DataFrame.from_dict(dfys, orient='index')\n",
    "df2 = pd.DataFrame.from_dict(dfnan, orient='index')\n",
    "stelement=['AlB','AlA','SiO2A','SiO2B','SiO2C','SiCA','SiCB']\n",
    "whole={}\n",
    "whole1={}\n",
    "whole2={}"
   ]
  },
  {
   "cell_type": "markdown",
   "metadata": {},
   "source": [
    "# Vertical Interpolation # \n",
    "## B-spline K=5##\n",
    "#### Method: scipy. make_lsq_spline ####"
   ]
  },
  {
   "cell_type": "code",
   "execution_count": 14,
   "metadata": {},
   "outputs": [],
   "source": [
    "a,b=df2.shape\n",
    "z=0\n",
    "for row in range(0,a):\n",
    "    co=0\n",
    "    y=df2.iloc[row].values\n",
    "    y1=df3.iloc[row].values\n",
    "    for value,V in zip(y,y1):\n",
    "        pos=np.array(total[co])-1550\n",
    "        pos1=np.array(total[co])\n",
    "        c=['c-']\n",
    "        #Change the K value here: work in maximum 8? depend on the number of raw data\n",
    "        k=5\n",
    "        X = pos\n",
    "        t = [-1, 0,1]\n",
    "        t = np.r_[(X[0],)*(k+1),t,(X[-1],)*(k+1)]\n",
    "        spl = make_lsq_spline(X, value, t, k)\n",
    "        spl1 = make_lsq_spline(X, V, t, k)\n",
    "        xnew=np.linspace(-1550,1550,num)\n",
    "        co=co+1\n",
    "        xp = np.linspace(0,3100,32)\n",
    "        whole['EEL={}_line_{}'.format(xzs[row],stelement[z])]=spl1(xnew)\n",
    "        whole1['EEL={}_line_{}'.format(xzs[row],stelement[z])]=spl(xnew)\n",
    "        z+=1\n",
    "        if z==len(stelement):\n",
    "            z=0\n",
    "finaldf1 =pd.DataFrame.from_dict(whole1, orient='index')\n",
    "finaldf =pd.DataFrame.from_dict(whole, orient='index')"
   ]
  },
  {
   "cell_type": "markdown",
   "metadata": {},
   "source": [
    "# Horizontal Interpolation #\n",
    "# RBF: Cubic #\n",
    "#### Method scipy.Rbf ####"
   ]
  },
  {
   "cell_type": "code",
   "execution_count": 15,
   "metadata": {
    "scrolled": false
   },
   "outputs": [
    {
     "data": {
      "image/png": "[encoded data removed]",
      "text/plain": [
       "<Figure size 212.4x1440 with 1 Axes>"
      ]
     },
     "metadata": {
      "needs_background": "light"
     },
     "output_type": "display_data"
    }
   ],
   "source": [
    "pos=np.array([0,10,30,40,50,70,80])\n",
    "R,C=finaldf1.shape\n",
    "for j in range(1,round(R/7)+1):\n",
    "    subnew1={}\n",
    "    subnew2={}\n",
    "    for i in range(1,C+1):\n",
    "        qq=finaldf1.iloc[(j-1)*7:j*7,i-1:i].values.flatten()\n",
    "        qq1=finaldf.iloc[(j-1)*7:j*7,i-1:i].values.flatten()\n",
    "        X = pos-40\n",
    "        xnew=np.linspace(0,80,Num)\n",
    "        t = [-1, 0, 1]\n",
    "        k = 3\n",
    "        t = np.r_[(X[0],)*(k+1),t,(X[-1],)*(k+1)]\n",
    "        spl = make_lsq_spline(X, qq, t, k)\n",
    "        xs = np.linspace(-40, 40, Num)\n",
    "        tp='cubic'\n",
    "        Tp='linear'\n",
    "        F = Rbf(pos,qq,kind=Tp)\n",
    "        F1=Rbf(pos,qq1,kind=tp)\n",
    "        subnew1['{}'.format(i)]=F(xnew)\n",
    "        subnew2['{}'.format(i)]=F1(xnew)\n",
    "    dff=DataFrame(subnew1)\n",
    "    dff1=DataFrame(subnew2)*(xzs[j-1])**0.5*4.5/0.1\n",
    "    dy=np.linspace(0,3100,Num)\n",
    "    fig= plt.figure(figsize=(2.95,20))\n",
    "    ax = fig.add_subplot(1,1,1)\n",
    "    yy=dff.index\n",
    "    img=plt.pcolor(dff1.transpose().values,cmap='afmhot',vmin=0,vmax=1)\n",
    "    plt.axis('off')\n",
    "    #Label\n",
    "    textstr='{} meV'.format(\"%.0f\" % (xzs[j-1]*1000))\n",
    "    #Name of the figure save\n",
    "    plt.savefig('Interpo{}.png'.format(\"%.3f\" % xzs[j-1]),bbox_inches='tight')"
   ]
  },
  {
   "cell_type": "code",
   "execution_count": 20,
   "metadata": {},
   "outputs": [
    {
     "data": {
      "text/plain": [
       "450"
      ]
     },
     "metadata": {},
     "output_type": "display_data"
    }
   ],
   "source": [
    "#Interpolation Video\n",
    "import cv2\n",
    "import numpy as np\n",
    "import glob\n",
    "R,C=finaldf1.shape\n",
    "img_array = []\n",
    "font= cv2.FONT_HERSHEY_SIMPLEX \n",
    "for i in range(1,round(R/7)+1):\n",
    "    for filename in glob.glob('Interpo{}.png'.format(\"%.3f\" % xzs[i-1])):\n",
    "        img = cv2.imread(filename)\n",
    "        height, width, layers = img.shape\n",
    "        size = (width,height)\n",
    "        img_array.append(img)\n",
    "out = cv2.VideoWriter('I450_65x245_FR=13.mp4',cv2.VideoWriter_fourcc(*'DIVX'), 13, size)\n",
    "display(len(img_array))\n",
    "for j in range(len(img_array)):\n",
    "    out.write(img_array[j])\n",
    "out.release()"
   ]
  }
 ],
 "metadata": {
  "kernelspec": {
   "display_name": "gputest",
   "language": "python",
   "name": "gputest"
  },
  "language_info": {
   "codemirror_mode": {
    "name": "ipython",
    "version": 3
   },
   "file_extension": ".py",
   "mimetype": "text/x-python",
   "name": "python",
   "nbconvert_exporter": "python",
   "pygments_lexer": "ipython3",
   "version": "3.7.6"
  }
 },
 "nbformat": 4,
 "nbformat_minor": 2
}
