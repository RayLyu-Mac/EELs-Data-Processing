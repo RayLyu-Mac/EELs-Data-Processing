{
 "cells": [
  {
   "cell_type": "code",
   "execution_count": 1,
   "metadata": {},
   "outputs": [],
   "source": [
    "import pandas as pd\n",
    "import matplotlib.pyplot as plt\n",
    "from pandas import DataFrame\n",
    "import numpy as np\n",
    "import cv2\n",
    "from scipy.interpolate import Rbf\n",
    "from mpl_toolkits.mplot3d import Axes3D\n",
    "from matplotlib import cm\n",
    "from scipy.ndimage import convolve\n",
    "from matplotlib import colors\n",
    "from scipy import interpolate\n",
    "from scipy.interpolate import BSpline\n",
    "from scipy.interpolate import make_interp_spline\n",
    "from scipy.interpolate import make_lsq_spline\n",
    "import matplotlib.font_manager as fm\n",
    "from mpl_toolkits.axes_grid1.anchored_artists import AnchoredSizeBar\n",
    "from matplotlib.transforms import Bbox\n",
    "from mpl_toolkits.axes_grid1 import make_axes_locatable\n",
    "from matplotlib_scalebar.scalebar import IMPERIAL_LENGTH\n",
    "from matplotlib_scalebar.scalebar import ScaleBar"
   ]
  },
  {
   "cell_type": "code",
   "execution_count": 5,
   "metadata": {
    "scrolled": true
   },
   "outputs": [
    {
     "data": {
      "image/png": "[encoded data removed]",
      "text/plain": [
       "<Figure size 212.4x1440 with 1 Axes>"
      ]
     },
     "metadata": {
      "needs_background": "light"
     },
     "output_type": "display_data"
    },
    {
     "data": {
      "image/png": "[encoded data removed]",
      "text/plain": [
       "<Figure size 212.4x1440 with 1 Axes>"
      ]
     },
     "metadata": {
      "needs_background": "light"
     },
     "output_type": "display_data"
    },
    {
     "data": {
      "image/png": "[encoded data removed]",
      "text/plain": [
       "<Figure size 212.4x1440 with 1 Axes>"
      ]
     },
     "metadata": {
      "needs_background": "light"
     },
     "output_type": "display_data"
    },
    {
     "data": {
      "image/png": "[encoded data removed]",
      "text/plain": [
       "<Figure size 212.4x1440 with 1 Axes>"
      ]
     },
     "metadata": {
      "needs_background": "light"
     },
     "output_type": "display_data"
    },
    {
     "data": {
      "image/png": "[encoded data removed]",
      "text/plain": [
       "<Figure size 212.4x1440 with 1 Axes>"
      ]
     },
     "metadata": {
      "needs_background": "light"
     },
     "output_type": "display_data"
    }
   ],
   "source": [
    "# ------------Keep it------------------------------#\n",
    "error=0.00075\n",
    "lower=400\n",
    "upper=950\n",
    "alanum=[0,250,500,750,1000,1250,1500,1750,2000,2250,2500,2750,3000,3050,3100]\n",
    "albnum=[0,100,250,500,750,1000,1250,1500,1750,2000,2250,2500,2750,3000,3100]\n",
    "sionum=[0,100,250,500,750,1000,1250,1500,1750,2000,2250,2500,2750,3000,3100]\n",
    "sianum=[0,100,250,500,750,1250,1500,1750,2000,2250,2500,2750,3000,3100]\n",
    "sibnum=[0,250,500,750,1000,1250,1500,1750,2000,2250,2500,2750,3000,3050,3100]\n",
    "numbers=[0,100,250,500,750,1000,1250,1500,1750,2000,2250,2500,2750,3000,3050,3100]\n",
    "# ------------Keep it------------------------------#\n",
    "\n",
    "#Posiiton of the Data if you don't want the 0nm data just delete the '0000'\n",
    "number=['0000','0100','0250','0500','0750']\n",
    "z=0\n",
    "\n",
    "#put the desied energy level into the xzs, or you can use np.linspace(min,max,(how many number you want))\n",
    "xzs=[0.1,0.133,0.154,0.295,0.44]\n",
    "\n",
    "#the horizontal position in the color map\n",
    "pos=np.array([0,10,20,30,40,50,60,70])\n",
    "\n",
    "#the vertical position in the color map\n",
    "numbers=np.array([0,150,250,500,750,1000,1250,1500,1750,2000,2250,2500,2750,3000,3100])\n",
    "total={}\n",
    "RR=0\n",
    "for x in xzs:\n",
    "    for k in ['AL-B','AL-A','SiO2-A','SiO2-B','SiO2-C','SiC-A','SiC-B']:\n",
    "            ys=[]\n",
    "            yns=[]\n",
    "            xs=[]\n",
    "            for j in number:\n",
    "                z+=1\n",
    "                try:\n",
    "                    df=pd.read_table('3p1um-{}-10-1s-{}nm-Subtracted-NElectrons-SM.dat'.format(k,j))\n",
    "                    df.columns=['energyloss','intensity']\n",
    "                    E=df['energyloss'][lower:upper]\n",
    "                    I=df['intensity'][lower:upper]\n",
    "                    df.set_index('energyloss',inplace=True)\n",
    "                    Tcx=[]\n",
    "                    Tcy=[]\n",
    "                    # Using the linear regression to find the two near point and construct the linear line and find the intensity to according energy\n",
    "                    for column in df.index:\n",
    "                        if column>(-error+x) and column<(x+error):\n",
    "                            y=df.loc[column].values[0]\n",
    "                            RR+=1\n",
    "                            Tcx.append(column)\n",
    "                            Tcy.append(y)\n",
    "                            if RR==2:\n",
    "                                RR=0\n",
    "                                break\n",
    "                    Newy=((Tcy[1]-Tcy[0])/(Tcx[1]-Tcx[0])*x+(Tcy[1]-((Tcy[1]-Tcy[0])*Tcx[1])/(Tcx[1]-Tcx[0])))\n",
    "                    ys.append(Newy)\n",
    "                except Exception as e:\n",
    "                    ys.append(np.nan)\n",
    "                    pass\n",
    "            total['{}'.format(k)]=ys\n",
    "    #the size of the color map in (inch)\n",
    "    fig= plt.figure(figsize=(2.95,20))\n",
    "    ax=fig.add_subplot(1,1,1)\n",
    "    \n",
    "    #The multiplication factor\n",
    "    df2=DataFrame(total)*(x)**0.5*4.5\n",
    "    df1=df2\n",
    "    \n",
    "    #color map plotting \n",
    "    img=plt.pcolor(pos,numbers,df1.values,cmap='afmhot',vmin=0,vmax=0.1)\n",
    "    plt.axis('off')\n",
    "    \n",
    "    #The label\n",
    "    textstr='{} meV'.format(\"%.0f\" % (x*1000))\n",
    "    \n",
    "    #Save the figure \n",
    "    plt.savefig('TEEL={}eV.png'.format(\"%.0f\" % (x*1000)),bbox_inches='tight')"
   ]
  },
  {
   "cell_type": "code",
   "execution_count": 29,
   "metadata": {},
   "outputs": [
    {
     "data": {
      "text/plain": [
       "450"
      ]
     },
     "metadata": {},
     "output_type": "display_data"
    }
   ],
   "source": [
    "# Raw Data Video Formation\n",
    "import cv2\n",
    "import numpy as np\n",
    "import glob\n",
    "img_array = []\n",
    "font= cv2.FONT_HERSHEY_SIMPLEX \n",
    "for i in range(450):\n",
    "    for filename in glob.glob('TEEL={}eV.png'.format(\"%.0f\" % (xzs[i]*1000))):\n",
    "        img = cv2.imread(filename)\n",
    "        height, width, layers = img.shape\n",
    "        size = (width,height) \n",
    "        img_array.append(img)\n",
    "out = cv2.VideoWriter('R450_60x240_Fr17.mp4',cv2.VideoWriter_fourcc(*'DIVX'), 17, size)\n",
    "display(len(img_array))\n",
    "for j in range(len(img_array)):\n",
    "    out.write(img_array[j])\n",
    "out.release()"
   ]
  },
  {
   "cell_type": "code",
   "execution_count": null,
   "metadata": {},
   "outputs": [],
   "source": []
  }
 ],
 "metadata": {
  "kernelspec": {
   "display_name": "gputest",
   "language": "python",
   "name": "gputest"
  },
  "language_info": {
   "codemirror_mode": {
    "name": "ipython",
    "version": 3
   },
   "file_extension": ".py",
   "mimetype": "text/x-python",
   "name": "python",
   "nbconvert_exporter": "python",
   "pygments_lexer": "ipython3",
   "version": "3.7.6"
  }
 },
 "nbformat": 4,
 "nbformat_minor": 2
}
